{
 "cells": [
  {
   "cell_type": "markdown",
   "metadata": {},
   "source": [
    "# <center> TS Assignment 2 \n",
    "<center> Bingcheng Wang, Zijun Huang \n"
   ]
  },
  {
   "cell_type": "markdown",
   "metadata": {},
   "source": [
    "### Problem 1: AR(1) MLE\n",
    "\n",
    "We first generate the time series using the parameters provided in the question and then use condional MLE to estimate them. We can draw a plot of the quotient of the estimated parameters and the given ones with the time period to see how those parameters converge. We use T = 100, 250, 1250 as required and add four more (T = 50, 175, 500, 750) to help us find out whether the estimation is biased. You can comment and uncomment some lines to get the answers only required in the problem."
   ]
  },
  {
   "cell_type": "code",
   "execution_count": 8,
   "metadata": {
    "collapsed": true
   },
   "outputs": [],
   "source": [
    "import numpy as np\n",
    "import matplotlib.pyplot as plt\n",
    "from statsmodels.tsa.arima_model import ARMA\n",
    "import matplotlib\n",
    "matplotlib.style.use('ggplot')\n",
    "\n",
    "def generate_ar1(alpha, beta, sigma, t):\n",
    "    x=np.zeros(t+1)\n",
    "    x[0] = alpha/(1-beta)\n",
    "    eps = np.random.normal(0.0,sigma,t)\n",
    "    for i in xrange(1,t+1):\n",
    "        x[i]=alpha+beta*x[i-1]+eps[i-1]\n",
    "    return x\n",
    "\n",
    "def ar1_mle(x , t):\n",
    "    #Conditional MLE estimate\n",
    "    y=x[0:t]\n",
    "    yp=x[1:(t+1)]\n",
    "    m=np.sum(y)/t\n",
    "    mp=np.sum(yp)/t\n",
    "    betaCMLE=np.inner(y-m,yp-mp)/np.inner(y-m,y-m)\n",
    "    alphaCMLE=mp-betaCMLE*m\n",
    "    sigmaCMLE=np.sqrt(np.inner(yp-betaCMLE*y-alphaCMLE,yp-betaCMLE*y-alphaCMLE)/t)\n",
    "    return [alphaCMLE, betaCMLE, sigmaCMLE]"
   ]
  },
  {
   "cell_type": "code",
   "execution_count": 14,
   "metadata": {
    "collapsed": false
   },
   "outputs": [
    {
     "data": {
      "text/plain": [
       "[[0.10600746035698425, 0.25815389109818476, 0.0048657879564277451],\n",
       " [0.10266993219842685, 0.28141303194964651, 0.0049520491297048094],\n",
       " [0.10162732604788272, 0.28862195020739884, 0.004970116451857241],\n",
       " [0.10142924221575392, 0.29005191206819048, 0.0049774712322958386],\n",
       " [0.10056171076111851, 0.29606769931217669, 0.0049892565946617184],\n",
       " [0.10014487425314349, 0.29901258426669625, 0.0049945930865433735],\n",
       " [0.10019197647697461, 0.29866725110745684, 0.0049988228856503733]]"
      ]
     },
     "execution_count": 14,
     "metadata": {},
     "output_type": "execute_result"
    }
   ],
   "source": [
    "para = [0.1, 0.3, 0.005] # alpha, beta, sigma\n",
    "# T= [100, 250, 1250]\n",
    "T = [50, 100, 175, 250, 500, 750, 1250]\n",
    "\n",
    "# para_mle_avg= [[0,0,0], [0,0,0], [0,0,0]]\n",
    "para_mle_avg = [[0, 0, 0]] * len(T)\n",
    "\n",
    "for i,t in enumerate(T):\n",
    "    for _ in xrange(2000):\n",
    "        data = generate_ar1(para[0],para[1],para[2],t)\n",
    "        tmp = ar1_mle(data, t)\n",
    "        para_mle_avg[i] = [tmp[j] + para_mle_avg[i][j] for j in xrange(3)]\n",
    "    para_mle_avg[i] = [tmpp / 2000 for tmpp in para_mle_avg[i]]\n",
    "\n",
    "para_mle_avg"
   ]
  },
  {
   "cell_type": "code",
   "execution_count": 52,
   "metadata": {
    "collapsed": false
   },
   "outputs": [
    {
     "data": {
      "image/png": "[encoded data removed]",
      "text/plain": [
       "<matplotlib.figure.Figure at 0x7f316e8946d0>"
      ]
     },
     "metadata": {},
     "output_type": "display_data"
    }
   ],
   "source": [
    "target1 = [para_mle_avg[i][0] / para[0] for i in xrange(len(T))]\n",
    "target2 = [para_mle_avg[i][1] / para[1] for i in xrange(len(T))]\n",
    "target3 = [para_mle_avg[i][2] / para[2] for i in xrange(len(T))]\n",
    "index = range(1,len(T)+1)\n",
    "plt.plot(index, target1, 'r-.', label = \"alpha\")\n",
    "plt.plot(index, target2, 'b--', label = \"beta\")\n",
    "plt.plot(index, target3, 'g:', label = \"sigma\")\n",
    "plt.xlabel('Different time period')\n",
    "plt.ylabel('estimated/true')\n",
    "plt.legend()\n",
    "plt.show()"
   ]
  },
  {
   "cell_type": "markdown",
   "metadata": {},
   "source": [
    "From above graph, we can easily make the following conclusion: the MLE estimator of the parameter of AR(1) model is biased."
   ]
  },
  {
   "cell_type": "markdown",
   "metadata": {},
   "source": [
    "### Problem 2: Cointegration\n",
    "\n",
    "From lecture, we know that two time series $X_t$ and $Y_t$ is cointegrated if\n",
    "- Each of the series is $I(1)$\n",
    "- Some linear combination of $X_t$ and $Y_t$ is covariance-stationary\n",
    "\n",
    "The following codes contains three parts:\n",
    "- clean the data\n",
    "- do adf test on the difference of FEDL01 and EUORDEPO. (use FED_EUOR to represent the difference)\n",
    "- do adf test on the USD_EUR\n",
    "- do adf test on the combination of USD_EUR and FED_EUOR"
   ]
  },
  {
   "cell_type": "code",
   "execution_count": 53,
   "metadata": {
    "collapsed": false
   },
   "outputs": [],
   "source": [
    "import pandas as pd\n",
    "import statsmodels.tsa.stattools as ts\n",
    "dateparse = lambda dates: pd.datetime.strptime(dates, '%m/%d/%Y')\n",
    "EUORDEPO = pd.read_csv('Q2EUORDEPO.csv', parse_dates=['Date'], date_parser=dateparse)\n",
    "FEDL01 = pd.read_csv('Q2FEDL01.csv', parse_dates=['Date'],date_parser=dateparse)\n",
    "USDEUR = pd.read_csv('Q2USDEUR.csv', parse_dates=['Date'],date_parser=dateparse)\n",
    "data = pd.merge(pd.merge(EUORDEPO, FEDL01, how='inner', on='Date'), USDEUR, how = 'inner', on = 'Date')"
   ]
  },
  {
   "cell_type": "code",
   "execution_count": 57,
   "metadata": {
    "collapsed": false
   },
   "outputs": [
    {
     "name": "stdout",
     "output_type": "stream",
     "text": [
      "USDEUR series is not stationary\n"
     ]
    }
   ],
   "source": [
    "ptmp = ts.adfuller(data['USDEUR'])[1]\n",
    "if ptmp < 0.01:\n",
    "    print \"USDEUR series is stationary\"\n",
    "else:\n",
    "    print \"USDEUR series is not stationary\""
   ]
  },
  {
   "cell_type": "code",
   "execution_count": 58,
   "metadata": {
    "collapsed": false
   },
   "outputs": [
    {
     "name": "stdout",
     "output_type": "stream",
     "text": [
      "The difference of FEDL01 and EUORDEPO series is not stationary\n"
     ]
    }
   ],
   "source": [
    "FED_EUOR = data['FEDL01'] - data['EUORDEPO']\n",
    "ptmp = ts.adfuller(FED_EUOR)[1]\n",
    "if ptmp < 0.01:\n",
    "    print \"The difference of FEDL01 and EUORDEPO series is stationary\"\n",
    "else:\n",
    "    print \"The difference of FEDL01 and EUORDEPO series is not stationary\""
   ]
  },
  {
   "cell_type": "code",
   "execution_count": 59,
   "metadata": {
    "collapsed": false
   },
   "outputs": [
    {
     "name": "stdout",
     "output_type": "stream",
     "text": [
      "USD_EUR and FED_EUOR is not cointegrated\n"
     ]
    }
   ],
   "source": [
    "ptmp = ts.adfuller(data['USDEUR']-FED_EUOR)\n",
    "if ptmp < 0.01:\n",
    "    print \"USD_EUR and FED_EUOR is cointegrated\"\n",
    "else:\n",
    "    print \"USD_EUR and FED_EUOR is not cointegrated\""
   ]
  }
 ],
 "metadata": {
  "kernelspec": {
   "display_name": "Python 2",
   "language": "python",
   "name": "python2"
  },
  "language_info": {
   "codemirror_mode": {
    "name": "ipython",
    "version": 2
   },
   "file_extension": ".py",
   "mimetype": "text/x-python",
   "name": "python",
   "nbconvert_exporter": "python",
   "pygments_lexer": "ipython2",
   "version": "2.7.13"
  }
 },
 "nbformat": 4,
 "nbformat_minor": 2
}
