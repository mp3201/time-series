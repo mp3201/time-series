{
 "cells": [
  {
   "cell_type": "markdown",
   "metadata": {},
   "source": [
    "## Problem 2:"
   ]
  },
  {
   "cell_type": "code",
   "execution_count": 1,
   "metadata": {
    "collapsed": false
   },
   "outputs": [
    {
     "data": {
      "text/html": [
       "<div>\n",
       "<table border=\"1\" class=\"dataframe\">\n",
       "  <thead>\n",
       "    <tr style=\"text-align: right;\">\n",
       "      <th></th>\n",
       "      <th>Date</th>\n",
       "      <th>SPX_index</th>\n",
       "      <th>VIX_Index</th>\n",
       "    </tr>\n",
       "  </thead>\n",
       "  <tbody>\n",
       "    <tr>\n",
       "      <th>0</th>\n",
       "      <td>2012-02-24</td>\n",
       "      <td>1365.74</td>\n",
       "      <td>17.31</td>\n",
       "    </tr>\n",
       "    <tr>\n",
       "      <th>1</th>\n",
       "      <td>2012-02-27</td>\n",
       "      <td>1367.59</td>\n",
       "      <td>18.19</td>\n",
       "    </tr>\n",
       "    <tr>\n",
       "      <th>2</th>\n",
       "      <td>2012-02-28</td>\n",
       "      <td>1372.18</td>\n",
       "      <td>17.96</td>\n",
       "    </tr>\n",
       "    <tr>\n",
       "      <th>3</th>\n",
       "      <td>2012-02-29</td>\n",
       "      <td>1365.68</td>\n",
       "      <td>18.43</td>\n",
       "    </tr>\n",
       "    <tr>\n",
       "      <th>4</th>\n",
       "      <td>2012-03-01</td>\n",
       "      <td>1374.09</td>\n",
       "      <td>17.26</td>\n",
       "    </tr>\n",
       "  </tbody>\n",
       "</table>\n",
       "</div>"
      ],
      "text/plain": [
       "        Date  SPX_index  VIX_Index\n",
       "0 2012-02-24    1365.74      17.31\n",
       "1 2012-02-27    1367.59      18.19\n",
       "2 2012-02-28    1372.18      17.96\n",
       "3 2012-02-29    1365.68      18.43\n",
       "4 2012-03-01    1374.09      17.26"
      ]
     },
     "execution_count": 1,
     "metadata": {},
     "output_type": "execute_result"
    }
   ],
   "source": [
    "import pandas as pd\n",
    "from statsmodels.tsa.stattools import grangercausalitytests\n",
    "dateparse = lambda dates: pd.datetime.strptime(dates, '%m/%d/%Y')\n",
    "SPX = pd.read_csv('SPX_Daily.csv', parse_dates=['Date'], date_parser=dateparse)\n",
    "VIX = pd.read_csv('VIX_Daily.csv', parse_dates=['Date'],date_parser=dateparse)\n",
    "data = pd.merge(SPX, VIX, how = 'inner', on = 'Date')\n",
    "data.head(5)"
   ]
  },
  {
   "cell_type": "code",
   "execution_count": 3,
   "metadata": {
    "collapsed": false
   },
   "outputs": [
    {
     "name": "stdout",
     "output_type": "stream",
     "text": [
      "\n",
      "Granger Causality\n",
      "('number of lags (no zero)', 1)\n",
      "ssr based F test:         F=7.3648  , p=0.0067  , df_denom=1255, df_num=1\n",
      "ssr based chi2 test:   chi2=7.3824  , p=0.0066  , df=1\n",
      "likelihood ratio test: chi2=7.3608  , p=0.0067  , df=1\n",
      "parameter F test:         F=7.3648  , p=0.0067  , df_denom=1255, df_num=1\n"
     ]
    },
    {
     "data": {
      "text/plain": [
       "{1: ({'lrtest': (7.3608421095468657, 0.0066659564543242213, 1),\n",
       "   'params_ftest': (7.3648140147436294, 0.0067423154331144172, 1255.0, 1),\n",
       "   'ssr_chi2test': (7.3824191478461128, 0.0065864515980349437, 1),\n",
       "   'ssr_ftest': (7.3648140147431418, 0.0067423154331158067, 1255.0, 1)},\n",
       "  [<statsmodels.regression.linear_model.RegressionResultsWrapper at 0x7fd8925d22d0>,\n",
       "   <statsmodels.regression.linear_model.RegressionResultsWrapper at 0x7fd8925d2550>,\n",
       "   array([[ 0.,  1.,  0.]])])}"
      ]
     },
     "execution_count": 3,
     "metadata": {},
     "output_type": "execute_result"
    }
   ],
   "source": [
    "# test whether VIX_index Granger cause SPX_index\n",
    "grangercausalitytests(data[['SPX_index','VIX_Index']],1)"
   ]
  },
  {
   "cell_type": "markdown",
   "metadata": {},
   "source": [
    "Conclusion: p-values are very small, reject null, so VIX Granger causes SPX"
   ]
  },
  {
   "cell_type": "code",
   "execution_count": 4,
   "metadata": {
    "collapsed": false,
    "scrolled": true
   },
   "outputs": [
    {
     "name": "stdout",
     "output_type": "stream",
     "text": [
      "\n",
      "Granger Causality\n",
      "('number of lags (no zero)', 1)\n",
      "ssr based F test:         F=0.4484  , p=0.5032  , df_denom=1255, df_num=1\n",
      "ssr based chi2 test:   chi2=0.4495  , p=0.5026  , df=1\n",
      "likelihood ratio test: chi2=0.4494  , p=0.5026  , df=1\n",
      "parameter F test:         F=0.4484  , p=0.5032  , df_denom=1255, df_num=1\n"
     ]
    },
    {
     "data": {
      "text/plain": [
       "{1: ({'lrtest': (0.44937107699570333, 0.50263377125491648, 1),\n",
       "   'params_ftest': (0.4483795230734709, 0.50322867168425367, 1255.0, 1),\n",
       "   'ssr_chi2test': (0.44945134663470021, 0.50259561629338267, 1),\n",
       "   'ssr_ftest': (0.44837952307356815, 0.50322867168425367, 1255.0, 1)},\n",
       "  [<statsmodels.regression.linear_model.RegressionResultsWrapper at 0x7fd8925d2610>,\n",
       "   <statsmodels.regression.linear_model.RegressionResultsWrapper at 0x7fd8925d2750>,\n",
       "   array([[ 0.,  1.,  0.]])])}"
      ]
     },
     "execution_count": 4,
     "metadata": {},
     "output_type": "execute_result"
    }
   ],
   "source": [
    "# test whether SPX_index Granger cause VIX_index\n",
    "grangercausalitytests(data[['VIX_Index','SPX_index']],1)"
   ]
  },
  {
   "cell_type": "markdown",
   "metadata": {},
   "source": [
    "Conclusion: p-value are large, cannot reject null, so at least under 20 lags, SPX does NOT Granger cause VIX"
   ]
  }
 ],
 "metadata": {
  "kernelspec": {
   "display_name": "Python 2",
   "language": "python",
   "name": "python2"
  },
  "language_info": {
   "codemirror_mode": {
    "name": "ipython",
    "version": 2
   },
   "file_extension": ".py",
   "mimetype": "text/x-python",
   "name": "python",
   "nbconvert_exporter": "python",
   "pygments_lexer": "ipython2",
   "version": "2.7.13"
  }
 },
 "nbformat": 4,
 "nbformat_minor": 2
}
